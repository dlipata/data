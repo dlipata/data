{
 "cells": [
  {
   "cell_type": "code",
   "execution_count": null,
   "id": "5823c446-42ec-4366-9fbb-59f0542adb11",
   "metadata": {},
   "outputs": [],
   "source": [
    "3 + 7"
   ]
  },
  {
   "cell_type": "raw",
   "id": "ac1236e7-5eeb-4c29-b2d5-6ab77231bd7f",
   "metadata": {},
   "source": [
    "print(\"hello\")"
   ]
  },
  {
   "cell_type": "code",
   "execution_count": null,
   "id": "9c3eff3e-f368-46c9-a139-bb05f6a06630",
   "metadata": {},
   "outputs": [],
   "source": [
    "print(\"hello\")"
   ]
  },
  {
   "cell_type": "code",
   "execution_count": null,
   "id": "57563873-f12c-4230-8851-63804f2e987b",
   "metadata": {},
   "outputs": [],
   "source": [
    "name = \"Den\"\n",
    "age = 25"
   ]
  },
  {
   "cell_type": "code",
   "execution_count": null,
   "id": "e89fb0b5-9b01-4edc-ba76-c9128940f658",
   "metadata": {},
   "outputs": [],
   "source": [
    "print(age)"
   ]
  },
  {
   "cell_type": "code",
   "execution_count": null,
   "id": "97521a58-7854-4d4c-bfbb-57fcb323df38",
   "metadata": {},
   "outputs": [],
   "source": [
    "# This is a comment it will not run\n",
    "# You can echo values without using print in the notebook\n",
    "name"
   ]
  },
  {
   "cell_type": "markdown",
   "id": "10e687e9-3f18-45ba-9f2d-134b09f65019",
   "metadata": {},
   "source": [
    "# Variables and Values"
   ]
  },
  {
   "cell_type": "code",
   "execution_count": null,
   "id": "5a79fdcf-3648-47f2-ba0d-992d4c946b63",
   "metadata": {},
   "outputs": [],
   "source": [
    "# variables can be used in calculations\n",
    "print(age)\n",
    "age = age + 3\n",
    "print(age)"
   ]
  },
  {
   "cell_type": "code",
   "execution_count": null,
   "id": "0745455b-411a-4720-a406-1db8489fa28c",
   "metadata": {},
   "outputs": [],
   "source": [
    "# Order of operations matters!\n",
    "first = 1\n",
    "second = first* 5\n",
    "first = 2 \n",
    "\n",
    "print (first)\n",
    "print (second)"
   ]
  },
  {
   "cell_type": "code",
   "execution_count": null,
   "id": "f1079a7c-049d-4939-b9eb-6041abac9a20",
   "metadata": {},
   "outputs": [],
   "source": [
    "# Values have types. Types affect what you can do with them.\n",
    "print(5-3)\n",
    "#print(\"hello\" - \"h\")"
   ]
  },
  {
   "cell_type": "code",
   "execution_count": null,
   "id": "dc4031d2-4191-4108-989d-9acf283fbe1b",
   "metadata": {},
   "outputs": [],
   "source": [
    "print(len(\"hello\"))\n",
    "#print(len(6))"
   ]
  },
  {
   "cell_type": "code",
   "execution_count": null,
   "id": "a374d56e-527e-4031-a2dd-b14cfac0c5b5",
   "metadata": {},
   "outputs": [],
   "source": [
    "# Add hashtag in front of code to disable it from running but keeps it on record. kernal tab and restart to rerun cells to retry. "
   ]
  },
  {
   "cell_type": "code",
   "execution_count": null,
   "id": "713616e0-7ef1-4d11-94f6-b8509eb1b629",
   "metadata": {},
   "outputs": [],
   "source": [
    "## Challenge\n",
    "Explain what each operator does\n",
    "\n",
    "print(5 // 3)\n",
    "\n",
    "print(5 / 3)\n",
    "\n",
    "print(5 % 3)"
   ]
  },
  {
   "cell_type": "code",
   "execution_count": null,
   "id": "3dde80b2-6024-4b9a-a011-94e125762e17",
   "metadata": {},
   "outputs": [],
   "source": [
    "print(5 // 3)"
   ]
  },
  {
   "cell_type": "code",
   "execution_count": null,
   "id": "50d7c3e3-5eb7-46fa-ac85-4ea2592e660f",
   "metadata": {},
   "outputs": [],
   "source": [
    "print(5 / 3)"
   ]
  },
  {
   "cell_type": "code",
   "execution_count": null,
   "id": "d8dd2af9-3867-402a-8a83-66b792cd202b",
   "metadata": {},
   "outputs": [],
   "source": [
    "print(5 % 3)"
   ]
  },
  {
   "cell_type": "code",
   "execution_count": null,
   "id": "afbde1a3-0499-4b20-97b4-cc1f22efd728",
   "metadata": {},
   "outputs": [],
   "source": [
    "print(7 // 3)"
   ]
  },
  {
   "cell_type": "code",
   "execution_count": null,
   "id": "a4ec2d17-dcdb-4d2a-abb4-396a873c8442",
   "metadata": {},
   "outputs": [],
   "source": [
    "print(7 / 3)"
   ]
  },
  {
   "cell_type": "code",
   "execution_count": null,
   "id": "dfbb2cdd-3195-4cba-9772-429e161c464d",
   "metadata": {},
   "outputs": [],
   "source": [
    "# // - floor operator, / - division, % - remainder= this is good for keeping track "
   ]
  },
  {
   "cell_type": "markdown",
   "id": "ae0e1dd5-2e86-4b09-a5c0-9873b3427181",
   "metadata": {},
   "source": [
    "# Getting Help "
   ]
  },
  {
   "cell_type": "code",
   "execution_count": null,
   "id": "2f287232-91a7-4961-8806-42966f741211",
   "metadata": {},
   "outputs": [],
   "source": [
    "# Rounding Numbers is built in\n",
    "round(3.14159, 2)"
   ]
  },
  {
   "cell_type": "code",
   "execution_count": null,
   "id": "33bcf29c-e79c-43e0-bc2b-411317c41bb6",
   "metadata": {},
   "outputs": [],
   "source": [
    "help(round)"
   ]
  },
  {
   "cell_type": "code",
   "execution_count": null,
   "id": "fcd934a4-9236-4b48-84e9-fcbd358092c3",
   "metadata": {},
   "outputs": [],
   "source": [
    "round(3.14159, ndigits=2)"
   ]
  },
  {
   "cell_type": "code",
   "execution_count": null,
   "id": "7aa3ff9b-4638-4059-b9ad-ee48e3fd5e0f",
   "metadata": {},
   "outputs": [],
   "source": [
    "# All functions return a new value\n",
    "rounded_pi = round(3.14159, 2)\n",
    "print(rounded_pi)"
   ]
  },
  {
   "cell_type": "code",
   "execution_count": null,
   "id": "e9abc998-e3cf-4094-b9b0-371b444ffe9f",
   "metadata": {},
   "outputs": [],
   "source": [
    "# making titles and sections is changing the line to markdown and then starting the line with a hastag."
   ]
  },
  {
   "cell_type": "code",
   "execution_count": null,
   "id": "45ec5da2-c09a-439c-986f-db17eb17f88c",
   "metadata": {},
   "outputs": [],
   "source": [
    "## Challenge\n",
    "\n",
    "In what order do the operations happen?\n",
    "\n",
    "radiance=1.0\n",
    "\n",
    "radiance=max(2.1,2.0+min(radiance,1.1*radiance-0.5))"
   ]
  },
  {
   "cell_type": "code",
   "execution_count": null,
   "id": "33732ff2-6387-4afe-83f9-2b9a7f5fa688",
   "metadata": {},
   "outputs": [],
   "source": [
    "radiance=1.0\n",
    "radiance=max(2.1,2.0+min(radiance,1.1*radiance-0.5))"
   ]
  },
  {
   "cell_type": "code",
   "execution_count": null,
   "id": "aabf9ed8-6ab7-43ad-95d6-344cdf5691da",
   "metadata": {},
   "outputs": [],
   "source": [
    "help(min)"
   ]
  },
  {
   "cell_type": "code",
   "execution_count": null,
   "id": "0ab7bbfb-ac8a-468b-88b0-451e1450a3bb",
   "metadata": {},
   "outputs": [],
   "source": [
    "help(max)"
   ]
  },
  {
   "cell_type": "code",
   "execution_count": null,
   "id": "57921dcd-362d-46cc-978e-d5c95013e8a6",
   "metadata": {},
   "outputs": [],
   "source": [
    "print(radiance)"
   ]
  },
  {
   "cell_type": "code",
   "execution_count": null,
   "id": "894913ca-41e7-4b52-9a6d-dbd532e0b465",
   "metadata": {},
   "outputs": [],
   "source": [
    "# first thing radiance is equal to one. second thing (functions work inside out) "
   ]
  },
  {
   "cell_type": "code",
   "execution_count": null,
   "id": "805c936a-afbe-48d8-82db-d968a33f49bf",
   "metadata": {},
   "outputs": [],
   "source": [
    "# breakdown of operations\n",
    "radiance = 1.0\n",
    "\n",
    "min_arg_2 = 1.1 * radiance - 0.5\n",
    "print(\"Min arg 2:\", min_arg_2)\n",
    "\n",
    "min_result = min(radiance, min_arg_2)\n",
    "print(\"min result:\", min_result)\n",
    "\n",
    "radiance = max(2.1,2.0 + min_result)\n",
    "print(radiance)"
   ]
  },
  {
   "cell_type": "markdown",
   "id": "5b72e82f-df04-4666-aa17-9f4239cc092a",
   "metadata": {},
   "source": [
    "# A Breif Interlude with Git"
   ]
  },
  {
   "cell_type": "code",
   "execution_count": null,
   "id": "0e859d3a-4f28-46d9-aab1-6d4f9dacff83",
   "metadata": {},
   "outputs": [],
   "source": []
  }
 ],
 "metadata": {
  "kernelspec": {
   "display_name": "Python 3 (ipykernel)",
   "language": "python",
   "name": "python3"
  },
  "language_info": {
   "codemirror_mode": {
    "name": "ipython",
    "version": 3
   },
   "file_extension": ".py",
   "mimetype": "text/x-python",
   "name": "python",
   "nbconvert_exporter": "python",
   "pygments_lexer": "ipython3",
   "version": "3.12.4"
  }
 },
 "nbformat": 4,
 "nbformat_minor": 5
}
