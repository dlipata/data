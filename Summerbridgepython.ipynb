{
 "cells": [
  {
   "cell_type": "code",
   "execution_count": null,
   "id": "5823c446-42ec-4366-9fbb-59f0542adb11",
   "metadata": {},
   "outputs": [],
   "source": [
    "3 + 7"
   ]
  },
  {
   "cell_type": "raw",
   "id": "ac1236e7-5eeb-4c29-b2d5-6ab77231bd7f",
   "metadata": {},
   "source": [
    "print(\"hello\")"
   ]
  },
  {
   "cell_type": "code",
   "execution_count": null,
   "id": "9c3eff3e-f368-46c9-a139-bb05f6a06630",
   "metadata": {},
   "outputs": [],
   "source": [
    "print(\"hello\")"
   ]
  },
  {
   "cell_type": "code",
   "execution_count": null,
   "id": "57563873-f12c-4230-8851-63804f2e987b",
   "metadata": {},
   "outputs": [],
   "source": [
    "name = \"Den\"\n",
    "age = 25"
   ]
  },
  {
   "cell_type": "code",
   "execution_count": null,
   "id": "e89fb0b5-9b01-4edc-ba76-c9128940f658",
   "metadata": {},
   "outputs": [],
   "source": [
    "print(age)"
   ]
  },
  {
   "cell_type": "code",
   "execution_count": null,
   "id": "97521a58-7854-4d4c-bfbb-57fcb323df38",
   "metadata": {},
   "outputs": [],
   "source": [
    "# This is a comment it will not run\n",
    "# You can echo values without using print in the notebook\n",
    "name"
   ]
  },
  {
   "cell_type": "markdown",
   "id": "10e687e9-3f18-45ba-9f2d-134b09f65019",
   "metadata": {
    "jp-MarkdownHeadingCollapsed": true
   },
   "source": [
    "# Variables and Values"
   ]
  },
  {
   "cell_type": "code",
   "execution_count": null,
   "id": "5a79fdcf-3648-47f2-ba0d-992d4c946b63",
   "metadata": {},
   "outputs": [],
   "source": [
    "# variables can be used in calculations\n",
    "print(age)\n",
    "age = age + 3\n",
    "print(age)"
   ]
  },
  {
   "cell_type": "code",
   "execution_count": null,
   "id": "0745455b-411a-4720-a406-1db8489fa28c",
   "metadata": {},
   "outputs": [],
   "source": [
    "# Order of operations matters!\n",
    "first = 1\n",
    "second = first* 5\n",
    "first = 2 \n",
    "\n",
    "print (first)\n",
    "print (second)"
   ]
  },
  {
   "cell_type": "code",
   "execution_count": null,
   "id": "f1079a7c-049d-4939-b9eb-6041abac9a20",
   "metadata": {},
   "outputs": [],
   "source": [
    "# Values have types. Types affect what you can do with them.\n",
    "print(5-3)\n",
    "#print(\"hello\" - \"h\")"
   ]
  },
  {
   "cell_type": "code",
   "execution_count": null,
   "id": "dc4031d2-4191-4108-989d-9acf283fbe1b",
   "metadata": {},
   "outputs": [],
   "source": [
    "print(len(\"hello\"))\n",
    "#print(len(6))"
   ]
  },
  {
   "cell_type": "code",
   "execution_count": null,
   "id": "a374d56e-527e-4031-a2dd-b14cfac0c5b5",
   "metadata": {},
   "outputs": [],
   "source": [
    "# Add hashtag in front of code to disable it from running but keeps it on record. kernal tab and restart to rerun cells to retry. "
   ]
  },
  {
   "cell_type": "code",
   "execution_count": null,
   "id": "713616e0-7ef1-4d11-94f6-b8509eb1b629",
   "metadata": {},
   "outputs": [],
   "source": [
    "## Challenge\n",
    "Explain what each operator does\n",
    "\n",
    "print(5 // 3)\n",
    "\n",
    "print(5 / 3)\n",
    "\n",
    "print(5 % 3)"
   ]
  },
  {
   "cell_type": "code",
   "execution_count": null,
   "id": "3dde80b2-6024-4b9a-a011-94e125762e17",
   "metadata": {},
   "outputs": [],
   "source": [
    "print(5 // 3)"
   ]
  },
  {
   "cell_type": "code",
   "execution_count": null,
   "id": "50d7c3e3-5eb7-46fa-ac85-4ea2592e660f",
   "metadata": {},
   "outputs": [],
   "source": [
    "print(5 / 3)"
   ]
  },
  {
   "cell_type": "code",
   "execution_count": null,
   "id": "d8dd2af9-3867-402a-8a83-66b792cd202b",
   "metadata": {},
   "outputs": [],
   "source": [
    "print(5 % 3)"
   ]
  },
  {
   "cell_type": "code",
   "execution_count": null,
   "id": "afbde1a3-0499-4b20-97b4-cc1f22efd728",
   "metadata": {},
   "outputs": [],
   "source": [
    "print(7 // 3)"
   ]
  },
  {
   "cell_type": "code",
   "execution_count": null,
   "id": "a4ec2d17-dcdb-4d2a-abb4-396a873c8442",
   "metadata": {},
   "outputs": [],
   "source": [
    "print(7 / 3)"
   ]
  },
  {
   "cell_type": "code",
   "execution_count": null,
   "id": "dfbb2cdd-3195-4cba-9772-429e161c464d",
   "metadata": {},
   "outputs": [],
   "source": [
    "# // - floor operator, / - division, % - remainder= this is good for keeping track "
   ]
  },
  {
   "cell_type": "markdown",
   "id": "ae0e1dd5-2e86-4b09-a5c0-9873b3427181",
   "metadata": {
    "jp-MarkdownHeadingCollapsed": true
   },
   "source": [
    "# Getting Help "
   ]
  },
  {
   "cell_type": "code",
   "execution_count": null,
   "id": "2f287232-91a7-4961-8806-42966f741211",
   "metadata": {},
   "outputs": [],
   "source": [
    "# Rounding Numbers is built in\n",
    "round(3.14159, 2)"
   ]
  },
  {
   "cell_type": "code",
   "execution_count": null,
   "id": "33bcf29c-e79c-43e0-bc2b-411317c41bb6",
   "metadata": {},
   "outputs": [],
   "source": [
    "help(round)"
   ]
  },
  {
   "cell_type": "code",
   "execution_count": null,
   "id": "fcd934a4-9236-4b48-84e9-fcbd358092c3",
   "metadata": {},
   "outputs": [],
   "source": [
    "round(3.14159, ndigits=2)"
   ]
  },
  {
   "cell_type": "code",
   "execution_count": null,
   "id": "7aa3ff9b-4638-4059-b9ad-ee48e3fd5e0f",
   "metadata": {},
   "outputs": [],
   "source": [
    "# All functions return a new value\n",
    "rounded_pi = round(3.14159, 2)\n",
    "print(rounded_pi)"
   ]
  },
  {
   "cell_type": "code",
   "execution_count": null,
   "id": "e9abc998-e3cf-4094-b9b0-371b444ffe9f",
   "metadata": {},
   "outputs": [],
   "source": [
    "# making titles and sections is changing the line to markdown and then starting the line with a hastag."
   ]
  },
  {
   "cell_type": "code",
   "execution_count": null,
   "id": "45ec5da2-c09a-439c-986f-db17eb17f88c",
   "metadata": {},
   "outputs": [],
   "source": [
    "## Challenge\n",
    "\n",
    "In what order do the operations happen?\n",
    "\n",
    "radiance=1.0\n",
    "\n",
    "radiance=max(2.1,2.0+min(radiance,1.1*radiance-0.5))"
   ]
  },
  {
   "cell_type": "code",
   "execution_count": null,
   "id": "33732ff2-6387-4afe-83f9-2b9a7f5fa688",
   "metadata": {},
   "outputs": [],
   "source": [
    "radiance=1.0\n",
    "radiance=max(2.1,2.0+min(radiance,1.1*radiance-0.5))"
   ]
  },
  {
   "cell_type": "code",
   "execution_count": null,
   "id": "aabf9ed8-6ab7-43ad-95d6-344cdf5691da",
   "metadata": {},
   "outputs": [],
   "source": [
    "help(min)"
   ]
  },
  {
   "cell_type": "code",
   "execution_count": null,
   "id": "0ab7bbfb-ac8a-468b-88b0-451e1450a3bb",
   "metadata": {},
   "outputs": [],
   "source": [
    "help(max)"
   ]
  },
  {
   "cell_type": "code",
   "execution_count": null,
   "id": "57921dcd-362d-46cc-978e-d5c95013e8a6",
   "metadata": {},
   "outputs": [],
   "source": [
    "print(radiance)"
   ]
  },
  {
   "cell_type": "code",
   "execution_count": null,
   "id": "894913ca-41e7-4b52-9a6d-dbd532e0b465",
   "metadata": {},
   "outputs": [],
   "source": [
    "# first thing radiance is equal to one. second thing (functions work inside out) "
   ]
  },
  {
   "cell_type": "code",
   "execution_count": null,
   "id": "805c936a-afbe-48d8-82db-d968a33f49bf",
   "metadata": {},
   "outputs": [],
   "source": [
    "# breakdown of operations\n",
    "radiance = 1.0\n",
    "\n",
    "min_arg_2 = 1.1 * radiance - 0.5\n",
    "print(\"Min arg 2:\", min_arg_2)\n",
    "\n",
    "min_result = min(radiance, min_arg_2)\n",
    "print(\"min result:\", min_result)\n",
    "\n",
    "radiance = max(2.1,2.0 + min_result)\n",
    "print(radiance)"
   ]
  },
  {
   "cell_type": "markdown",
   "id": "5b72e82f-df04-4666-aa17-9f4239cc092a",
   "metadata": {},
   "source": [
    "# A Breif Interlude with Git"
   ]
  },
  {
   "cell_type": "markdown",
   "id": "f2635211-e5fc-4d67-b8eb-3a04e2f0fefe",
   "metadata": {
    "jp-MarkdownHeadingCollapsed": true
   },
   "source": [
    "# Libraries"
   ]
  },
  {
   "cell_type": "code",
   "execution_count": null,
   "id": "a946a242-5ef2-41a4-90ec-5690c8efdd5d",
   "metadata": {},
   "outputs": [],
   "source": [
    "import math"
   ]
  },
  {
   "cell_type": "code",
   "execution_count": null,
   "id": "7057dcfd-69f5-4f7d-a4a5-8f72a5226e9b",
   "metadata": {},
   "outputs": [],
   "source": [
    "math.pi"
   ]
  },
  {
   "cell_type": "code",
   "execution_count": null,
   "id": "65f75887-a952-49b7-aa05-e6947093fa38",
   "metadata": {},
   "outputs": [],
   "source": [
    "pi"
   ]
  },
  {
   "cell_type": "code",
   "execution_count": null,
   "id": "861a8ed7-af08-4e5c-b4f2-9f231a09844e",
   "metadata": {},
   "outputs": [],
   "source": [
    "print(math.pi)\n",
    "print(math.cos(math.pi)"
   ]
  },
  {
   "cell_type": "code",
   "execution_count": null,
   "id": "355df2ff-a658-48bb-8596-1928f7f5cc26",
   "metadata": {},
   "outputs": [],
   "source": [
    "print(math.pi)\n",
    "print(math.cos(math.pi))"
   ]
  },
  {
   "cell_type": "code",
   "execution_count": null,
   "id": "48b53cca-80d1-4c17-86cf-51a6e441d6ce",
   "metadata": {},
   "outputs": [],
   "source": [
    "print(math.pi)\n",
    "print(math.cos(math.pi))"
   ]
  },
  {
   "cell_type": "code",
   "execution_count": null,
   "id": "fe4cc372-1dec-4283-82ad-c90594eb76f8",
   "metadata": {},
   "outputs": [],
   "source": [
    "# get complete help with help()\n",
    "#help(math)\n",
    "\n",
    "# Get a list of options with dir()\n",
    "print(dir(math))"
   ]
  },
  {
   "cell_type": "markdown",
   "id": "096f3459-e388-4d5c-be37-726bc54cc408",
   "metadata": {},
   "source": [
    "# List"
   ]
  },
  {
   "cell_type": "code",
   "execution_count": null,
   "id": "b65a7ddc-9ccf-477a-b5d2-f585ad971ad2",
   "metadata": {},
   "outputs": [],
   "source": [
    "# a list is an ordered collection of stuff\n",
    "fruits = [\"apple\", \"Banana\", \"cherry\", \"date\", \"elderberry\", \"fig\"]"
   ]
  },
  {
   "cell_type": "code",
   "execution_count": null,
   "id": "543bee30-45b4-46a4-8fcc-56fd7bfd68ea",
   "metadata": {},
   "outputs": [],
   "source": [
    "fruits"
   ]
  },
  {
   "cell_type": "code",
   "execution_count": null,
   "id": "9a09098c-3d46-4c58-9566-704192fae009",
   "metadata": {},
   "outputs": [],
   "source": [
    "len(fruits)"
   ]
  },
  {
   "cell_type": "code",
   "execution_count": null,
   "id": "216b8b10-acd9-4668-984f-bb778f2f51d6",
   "metadata": {},
   "outputs": [],
   "source": [
    "# Lists are indexed by position, counting, from 0\n",
    "# First item\n",
    "print(fruits[0])\n",
    "\n",
    "# Fifth item\n",
    "print(fruits[4])"
   ]
  },
  {
   "cell_type": "code",
   "execution_count": null,
   "id": "6e500de8-2899-4b6b-9911-7bf26a250a67",
   "metadata": {},
   "outputs": [],
   "source": [
    "# Get subsets by slicing the list\n",
    "# Get the first three items\n",
    "fruits[0:3]"
   ]
  },
  {
   "cell_type": "code",
   "execution_count": null,
   "id": "be3c1399-28f1-459b-b7aa-9412813c30d9",
   "metadata": {},
   "outputs": [],
   "source": [
    "fruits[2:5]"
   ]
  },
  {
   "cell_type": "code",
   "execution_count": null,
   "id": "66ed1ee6-4791-469b-b34b-f3efcc2a3569",
   "metadata": {},
   "outputs": [],
   "source": [
    "# Get items by step\n",
    "# Get the first 5 items every other item\n",
    "fruits[0:5:2]"
   ]
  },
  {
   "cell_type": "code",
   "execution_count": null,
   "id": "fc456137-9deb-492b-9da0-194b7ebb91b7",
   "metadata": {},
   "outputs": [],
   "source": [
    "# Get first 5 items, every 3rd item\n",
    "fruits[0:5:3]"
   ]
  },
  {
   "cell_type": "code",
   "execution_count": null,
   "id": "97e22a32-4ef7-472c-8441-0488c6a08cfe",
   "metadata": {},
   "outputs": [],
   "source": [
    "print(len(fruits))"
   ]
  },
  {
   "cell_type": "markdown",
   "id": "b19a547f-3a71-481b-bc86-f74f504eed7a",
   "metadata": {},
   "source": [
    "## challenge\n",
    "\n",
    "What are the following statements doing?\n",
    "\n",
    "fruits[-1]\n",
    "\n",
    "fruits[20]\n",
    "\n",
    "fruits[-3]"
   ]
  },
  {
   "cell_type": "code",
   "execution_count": null,
   "id": "74838394-fc4b-4717-9884-859addf6b650",
   "metadata": {},
   "outputs": [],
   "source": [
    "fruits[-1]\n",
    "\n",
    "fruits[20]\n",
    "\n",
    "fruits[-3]"
   ]
  },
  {
   "cell_type": "code",
   "execution_count": null,
   "id": "79a4472e-807f-4bf5-aa9c-2718c0cc31e0",
   "metadata": {},
   "outputs": [],
   "source": [
    "fruits[-1]"
   ]
  },
  {
   "cell_type": "code",
   "execution_count": null,
   "id": "f7d9a6bc-549b-4516-9aba-c46b3484cfe4",
   "metadata": {},
   "outputs": [],
   "source": [
    "#fruits[20]"
   ]
  },
  {
   "cell_type": "code",
   "execution_count": null,
   "id": "5c71c32c-0df8-469f-a2d0-3437cf2ba749",
   "metadata": {},
   "outputs": [],
   "source": [
    "fruits[-3:]"
   ]
  },
  {
   "cell_type": "code",
   "execution_count": null,
   "id": "16f72e99-2832-4255-b3f9-8e5744508fa2",
   "metadata": {},
   "outputs": [],
   "source": [
    "fruits"
   ]
  },
  {
   "cell_type": "code",
   "execution_count": null,
   "id": "810f6749-3244-4a89-bd41-3d48e4e3d474",
   "metadata": {},
   "outputs": [],
   "source": [
    "# Why are lists indexed this way?\n",
    "print(fruits[:2])\n",
    "print(fruits[2:])\n",
    "print(len(fruits[1:3]))"
   ]
  },
  {
   "cell_type": "markdown",
   "id": "5e35e224-2554-4632-97a2-3feca9f5342a",
   "metadata": {},
   "source": [
    "# Adding stuff to Lists"
   ]
  },
  {
   "cell_type": "code",
   "execution_count": null,
   "id": "854d357b-7102-46d3-b052-269f6c982070",
   "metadata": {},
   "outputs": [],
   "source": [
    "# Update a specific item\n",
    "print(fruits)\n",
    "\n",
    "fruits[0] = \"apricot\"\n",
    "print(fruits)"
   ]
  },
  {
   "cell_type": "code",
   "execution_count": null,
   "id": "59db02a4-9646-44e8-9544-4a8ebba08e9c",
   "metadata": {},
   "outputs": [],
   "source": [
    "# Add new items to list\n",
    "fruits.append(\"grape\")\n",
    "\n",
    "print(fruits)"
   ]
  },
  {
   "cell_type": "code",
   "execution_count": null,
   "id": "67bf027b-43ee-412e-be3b-815a77762844",
   "metadata": {},
   "outputs": [],
   "source": [
    "# Add items form a second list the the first list\n",
    "more_fruits = [\"honeydew\", \"imbe\", \"jackfruit\"]\n",
    "fruits.extend(more_fruits)\n",
    "\n",
    "print(fruits)"
   ]
  },
  {
   "cell_type": "code",
   "execution_count": null,
   "id": "f971f690-d161-44b1-adb4-b5d0164ac0e9",
   "metadata": {},
   "outputs": [],
   "source": [
    "# Many funnctions operate on collections\n",
    "# Assesing our wide recieving corp\n",
    "recieving_yards = [450, 370, 870, 150]\n",
    "\n",
    "mean_yards = sum(recieving_yards)/len(recieving_yards)\n",
    "print(mean_yards)"
   ]
  },
  {
   "cell_type": "markdown",
   "id": "1c833394-7824-4de2-84bb-3343b823395a",
   "metadata": {},
   "source": [
    "# For Loops"
   ]
  },
  {
   "cell_type": "code",
   "execution_count": null,
   "id": "2f62df45-ef9e-4976-8998-6a7c84bbd3ba",
   "metadata": {},
   "outputs": [],
   "source": [
    "for fruit in fruits:\n",
    "    print(fruit)"
   ]
  },
  {
   "cell_type": "code",
   "execution_count": null,
   "id": "55f636b0-6133-4223-8f31-e9af4b30e6ea",
   "metadata": {},
   "outputs": [],
   "source": [
    "for bob in fruits:\n",
    "    print(bob)"
   ]
  },
  {
   "cell_type": "code",
   "execution_count": null,
   "id": "5d004ed6-6f1b-405c-8085-067c3b6b4333",
   "metadata": {},
   "outputs": [],
   "source": [
    "# Code blocks can contain many statements\n",
    "primes = [2, 3, 5]\n",
    "for p in primes:\n",
    "    squared = p ** 2\n",
    "    cubed = p ** 3\n",
    "    print(p, squared, cubed)"
   ]
  },
  {
   "cell_type": "code",
   "execution_count": null,
   "id": "bcf797a1-cfe5-45c4-99d7-6ff29d191325",
   "metadata": {},
   "outputs": [],
   "source": [
    "# Create a new collection from a existing collection\n",
    "primes_squared = []\n",
    "for p in primes:\n",
    "    primes_squared.append(p ** 2)\n",
    "\n",
    "print(primes_squared)"
   ]
  },
  {
   "cell_type": "markdown",
   "id": "6d6faf14-ab79-46ab-b555-fc690bf4fc08",
   "metadata": {},
   "source": [
    "## challenge\n",
    "\n",
    "Get the total length of all the items int the fruits list."
   ]
  },
  {
   "cell_type": "code",
   "execution_count": null,
   "id": "e316c23e-39e6-43fc-a975-06cfa88c6a8c",
   "metadata": {},
   "outputs": [],
   "source": [
    "print(fruits)"
   ]
  },
  {
   "cell_type": "code",
   "execution_count": null,
   "id": "b6a9f93d-c4de-4da4-9852-0ef68ece819f",
   "metadata": {},
   "outputs": [],
   "source": [
    "fruits = [\"apricot\", \"Banana\", \"cherry\", \"date\", \"elderberry\", \"fig\", \"grape\", \"honeydew\", \"imbe\", \"jackfruit\"]"
   ]
  },
  {
   "cell_type": "code",
   "execution_count": null,
   "id": "f19bf250-816d-4749-b34b-3ef49a15c64f",
   "metadata": {},
   "outputs": [],
   "source": [
    "print(fruits)"
   ]
  },
  {
   "cell_type": "code",
   "execution_count": null,
   "id": "e890faae-9cd8-438c-8961-c54501f27eaa",
   "metadata": {},
   "outputs": [],
   "source": [
    "a = 0"
   ]
  },
  {
   "cell_type": "code",
   "execution_count": null,
   "id": "5888a854-0d42-4e69-a359-bcb4c89f3def",
   "metadata": {},
   "outputs": [],
   "source": [
    "a += 1"
   ]
  },
  {
   "cell_type": "code",
   "execution_count": null,
   "id": "27ef16a2-d7d0-49fd-a756-d719f980456b",
   "metadata": {},
   "outputs": [],
   "source": [
    "a"
   ]
  },
  {
   "cell_type": "code",
   "execution_count": null,
   "id": "35821840-3a6d-437b-b220-4626dd7ad14c",
   "metadata": {},
   "outputs": [],
   "source": [
    "len(\"hi\")"
   ]
  },
  {
   "cell_type": "code",
   "execution_count": null,
   "id": "aa1543b5-dc88-44c0-b0cd-c9ac6e819fee",
   "metadata": {},
   "outputs": [],
   "source": [
    "a = len(\"hi\")"
   ]
  },
  {
   "cell_type": "code",
   "execution_count": null,
   "id": "8b7a1edc-061b-4300-9bb0-cb138c4612d5",
   "metadata": {},
   "outputs": [],
   "source": [
    "a"
   ]
  },
  {
   "cell_type": "code",
   "execution_count": null,
   "id": "559d2bb7-ff38-46fb-83ea-274a9ee2850f",
   "metadata": {},
   "outputs": [],
   "source": [
    "f_len = []\n",
    "for f in fruits:\n",
    "    f_len.append(len(f))\n",
    "\n",
    "print(f_len)\n",
    "sum(f_len)\n",
    "    "
   ]
  },
  {
   "cell_type": "code",
   "execution_count": null,
   "id": "8f67b26b-9aa4-44ea-9409-33e69ae432c5",
   "metadata": {},
   "outputs": [],
   "source": [
    "joined_fruits = \"\".join(fruits)\n",
    "print(joined_fruits)\n",
    "print(len(joined_fruits))"
   ]
  },
  {
   "cell_type": "code",
   "execution_count": null,
   "id": "f9456e1f-ffe5-4efb-9134-f1d92b50b031",
   "metadata": {},
   "outputs": [],
   "source": []
  }
 ],
 "metadata": {
  "kernelspec": {
   "display_name": "Python 3 (ipykernel)",
   "language": "python",
   "name": "python3"
  },
  "language_info": {
   "codemirror_mode": {
    "name": "ipython",
    "version": 3
   },
   "file_extension": ".py",
   "mimetype": "text/x-python",
   "name": "python",
   "nbconvert_exporter": "python",
   "pygments_lexer": "ipython3",
   "version": "3.12.4"
  }
 },
 "nbformat": 4,
 "nbformat_minor": 5
}
